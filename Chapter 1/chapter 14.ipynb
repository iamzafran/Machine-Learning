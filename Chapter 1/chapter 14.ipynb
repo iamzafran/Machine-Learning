{
 "cells": [
  {
   "cell_type": "code",
   "execution_count": 1,
   "metadata": {},
   "outputs": [
    {
     "name": "stderr",
     "output_type": "stream",
     "text": [
      "C:\\ProgramData\\Anaconda3\\lib\\site-packages\\h5py\\__init__.py:34: FutureWarning: Conversion of the second argument of issubdtype from `float` to `np.floating` is deprecated. In future, it will be treated as `np.float64 == np.dtype(float).type`.\n",
      "  from ._conv import register_converters as _register_converters\n"
     ]
    }
   ],
   "source": [
    "import tensorflow as tf"
   ]
  },
  {
   "cell_type": "code",
   "execution_count": 2,
   "metadata": {
    "collapsed": true
   },
   "outputs": [],
   "source": [
    "n_inputs = 3\n",
    "n_neurons = 5"
   ]
  },
  {
   "cell_type": "code",
   "execution_count": 3,
   "metadata": {
    "collapsed": true
   },
   "outputs": [],
   "source": [
    "X0 = tf.placeholder(tf.float32, [None, n_inputs])\n",
    "X1 = tf.placeholder(tf.float32, [None, n_inputs])"
   ]
  },
  {
   "cell_type": "code",
   "execution_count": 4,
   "metadata": {
    "collapsed": true
   },
   "outputs": [],
   "source": [
    "Wx = tf.Variable(tf.random_normal(shape=[n_inputs, n_neurons], dtype=tf.float32))\n",
    "Wy = tf.Variable(tf.random_normal(shape=[n_neurons, n_neurons], dtype=tf.float32))\n",
    "b = tf.Variable(tf.zeros([1, n_neurons], dtype=tf.float32))"
   ]
  },
  {
   "cell_type": "code",
   "execution_count": 5,
   "metadata": {
    "collapsed": true
   },
   "outputs": [],
   "source": [
    "Y0 = tf.tanh(tf.matmul(X0, Wx) + b)\n",
    "Y1 = tf.tanh(tf.matmul(Y0, Wy) + tf.matmul(X1, Wx) + b)"
   ]
  },
  {
   "cell_type": "code",
   "execution_count": 6,
   "metadata": {
    "collapsed": true
   },
   "outputs": [],
   "source": [
    "init = tf.global_variables_initializer()"
   ]
  },
  {
   "cell_type": "code",
   "execution_count": 7,
   "metadata": {
    "collapsed": true
   },
   "outputs": [],
   "source": [
    "import numpy as np"
   ]
  },
  {
   "cell_type": "code",
   "execution_count": 8,
   "metadata": {
    "collapsed": true
   },
   "outputs": [],
   "source": [
    "X0_batch = np.array([[0, 1, 2], [3, 4, 5], [6, 7, 8], [9, 0, 1]])\n",
    "X1_batch = np.array([[9, 8, 7], [0, 0, 0], [6, 5, 4], [3, 2, 1]])"
   ]
  },
  {
   "cell_type": "code",
   "execution_count": 9,
   "metadata": {
    "collapsed": true
   },
   "outputs": [],
   "source": [
    "with tf.Session() as sess:\n",
    "    init.run()\n",
    "    Y0_val, Y1_val = sess.run([Y0, Y1], feed_dict={X0: X0_batch, X1: X1_batch})"
   ]
  },
  {
   "cell_type": "code",
   "execution_count": 10,
   "metadata": {},
   "outputs": [
    {
     "name": "stdout",
     "output_type": "stream",
     "text": [
      "[[-0.8835299   0.9025558  -0.23154029 -0.96355164  0.4324425 ]\n",
      " [ 0.7393435   0.9999924  -0.8665323  -0.6246172   0.8852194 ]\n",
      " [ 0.9972265   1.         -0.9837447   0.48402378  0.9814619 ]\n",
      " [ 1.          1.          0.05322769  1.          0.98808223]]\n"
     ]
    }
   ],
   "source": [
    "print(Y0_val)"
   ]
  },
  {
   "cell_type": "code",
   "execution_count": 11,
   "metadata": {},
   "outputs": [
    {
     "name": "stdout",
     "output_type": "stream",
     "text": [
      "[[ 0.99999857  1.         -0.999929    0.9999991   0.995566  ]\n",
      " [-0.63687146  0.8477458   0.5047866   0.9934036  -0.9660777 ]\n",
      " [ 0.9999974   1.         -0.42805865  0.9999999  -0.9138781 ]\n",
      " [ 0.9999782   0.99991465  0.0494046   0.9999966  -0.98707485]]\n"
     ]
    }
   ],
   "source": [
    "print(Y1_val)"
   ]
  },
  {
   "cell_type": "code",
   "execution_count": 12,
   "metadata": {
    "collapsed": true
   },
   "outputs": [],
   "source": [
    "basic_cell = tf.contrib.rnn.BasicRNNCell(num_units=n_neurons)\n",
    "outputs_seqs, seqs = tf.contrib.rnn.static_rnn(basic_cell, [X0, X1], dtype=tf.float32)"
   ]
  },
  {
   "cell_type": "code",
   "execution_count": 13,
   "metadata": {
    "collapsed": true
   },
   "outputs": [],
   "source": [
    "Y0, Y1 = outputs_seqs"
   ]
  },
  {
   "cell_type": "code",
   "execution_count": 14,
   "metadata": {
    "collapsed": true
   },
   "outputs": [],
   "source": [
    "tf.reset_default_graph()\n",
    "\n",
    "n_steps = 2\n",
    "n_inputs = 3\n",
    "n_neurons = 5\n",
    "\n",
    "X = tf.placeholder(tf.float32, [None, n_steps, n_inputs])\n",
    "basic_cell = tf.contrib.rnn.BasicRNNCell(num_units=n_neurons)\n",
    "outputs, states = tf.nn.dynamic_rnn(basic_cell, X, dtype=tf.float32)"
   ]
  },
  {
   "cell_type": "code",
   "execution_count": null,
   "metadata": {
    "collapsed": true
   },
   "outputs": [],
   "source": []
  },
  {
   "cell_type": "code",
   "execution_count": 15,
   "metadata": {
    "collapsed": true
   },
   "outputs": [],
   "source": [
    "X_batch = np.array([\n",
    "    [[0, 1, 2], [9, 9, 7]],\n",
    "    [[3, 4, 5], [0, 0, 0]],\n",
    "    [[9, 0, 1], [3, 2, 1]]\n",
    "])"
   ]
  },
  {
   "cell_type": "code",
   "execution_count": 16,
   "metadata": {
    "collapsed": true
   },
   "outputs": [],
   "source": [
    "init = tf.global_variables_initializer()\n",
    "with tf.Session() as sess:\n",
    "    init.run()\n",
    "    outputs_val = outputs.eval(feed_dict={X: X_batch})"
   ]
  },
  {
   "cell_type": "code",
   "execution_count": 17,
   "metadata": {},
   "outputs": [
    {
     "data": {
      "text/plain": [
       "array([[[-0.8667826 , -0.46119165,  0.96141326,  0.39979112,\n",
       "          0.79039353],\n",
       "        [-0.925666  , -0.9999999 ,  0.99999994, -0.9016452 ,\n",
       "          0.9778266 ]],\n",
       "\n",
       "       [[-0.974887  , -0.9981169 ,  0.9999685 , -0.1335967 ,\n",
       "          0.95994264],\n",
       "        [-0.5293158 ,  0.31099764, -0.45216054,  0.75524426,\n",
       "          0.47355476]],\n",
       "\n",
       "       [[ 0.996893  , -0.99995565, -0.26084298, -0.9993805 ,\n",
       "         -0.9924056 ],\n",
       "        [-0.07413124, -0.9984098 ,  0.95881504, -0.82686985,\n",
       "          0.3785333 ]]], dtype=float32)"
      ]
     },
     "execution_count": 17,
     "metadata": {},
     "output_type": "execute_result"
    }
   ],
   "source": [
    "outputs_val"
   ]
  },
  {
   "cell_type": "code",
   "execution_count": 18,
   "metadata": {
    "collapsed": true
   },
   "outputs": [],
   "source": [
    "tf.reset_default_graph()\n",
    "\n",
    "seq_length = tf.placeholder(tf.int32, [None])\n",
    "X = tf.placeholder(tf.float32, [None, n_steps, n_inputs])\n",
    "basic_cell = tf.contrib.rnn.BasicRNNCell(num_units=n_neurons)\n",
    "outputs, states = tf.nn.dynamic_rnn(basic_cell, X, dtype=tf.float32, sequence_length=seq_length)\n"
   ]
  },
  {
   "cell_type": "code",
   "execution_count": 19,
   "metadata": {
    "collapsed": true
   },
   "outputs": [],
   "source": [
    "X_batch = np.array([\n",
    "    [[0, 1, 2], [9, 8, 7]],\n",
    "    [[3, 4, 5], [0, 0, 0]],\n",
    "    [[6, 7, 8], [6, 5, 4]],\n",
    "    [[9, 0, 1], [3, 2, 1]]\n",
    "])"
   ]
  },
  {
   "cell_type": "code",
   "execution_count": 20,
   "metadata": {
    "collapsed": true
   },
   "outputs": [],
   "source": [
    "seq_length_batch = np.array([2, 1, 2, 2])"
   ]
  },
  {
   "cell_type": "code",
   "execution_count": 21,
   "metadata": {
    "collapsed": true
   },
   "outputs": [],
   "source": [
    "init = tf.global_variables_initializer()\n",
    "\n",
    "with tf.Session() as sess:\n",
    "    init.run()\n",
    "    outputs_val, states_val = sess.run([outputs, states], feed_dict={X: X_batch, seq_length: seq_length_batch})"
   ]
  },
  {
   "cell_type": "code",
   "execution_count": 22,
   "metadata": {},
   "outputs": [
    {
     "data": {
      "text/plain": [
       "array([[[ 0.12329921, -0.04744981, -0.9393673 ,  0.06182215,\n",
       "          0.49267176],\n",
       "        [-0.9549257 , -0.1282666 , -1.        ,  0.9815445 ,\n",
       "          1.        ]],\n",
       "\n",
       "       [[-0.42666152, -0.04533911, -0.9999907 ,  0.55586493,\n",
       "          0.99915993],\n",
       "        [ 0.        ,  0.        ,  0.        ,  0.        ,\n",
       "          0.        ]],\n",
       "\n",
       "       [[-0.77612305, -0.04322813, -1.        ,  0.831123  ,\n",
       "          0.999999  ],\n",
       "        [-0.9330059 ,  0.40943727, -0.9999997 ,  0.84121805,\n",
       "          0.99998844]],\n",
       "\n",
       "       [[ 0.8062531 ,  0.99327403, -0.99827164,  0.9957853 ,\n",
       "          0.99989337],\n",
       "        [-0.25969303,  0.559296  , -0.999334  ,  0.85742706,\n",
       "          0.9895261 ]]], dtype=float32)"
      ]
     },
     "execution_count": 22,
     "metadata": {},
     "output_type": "execute_result"
    }
   ],
   "source": [
    "outputs_val"
   ]
  },
  {
   "cell_type": "code",
   "execution_count": 23,
   "metadata": {},
   "outputs": [
    {
     "data": {
      "text/plain": [
       "array([[-0.9549257 , -0.1282666 , -1.        ,  0.9815445 ,  1.        ],\n",
       "       [-0.42666152, -0.04533911, -0.9999907 ,  0.55586493,  0.99915993],\n",
       "       [-0.9330059 ,  0.40943727, -0.9999997 ,  0.84121805,  0.99998844],\n",
       "       [-0.25969303,  0.559296  , -0.999334  ,  0.85742706,  0.9895261 ]],\n",
       "      dtype=float32)"
      ]
     },
     "execution_count": 23,
     "metadata": {},
     "output_type": "execute_result"
    }
   ],
   "source": [
    "states_val"
   ]
  },
  {
   "cell_type": "code",
   "execution_count": 24,
   "metadata": {
    "collapsed": true
   },
   "outputs": [],
   "source": [
    "tf.reset_default_graph()\n",
    "n_steps = 28\n",
    "n_inputs = 28\n",
    "n_neurons = 150\n",
    "n_outputs =10\n",
    "\n",
    "learning_rate = 0.001\n",
    "\n",
    "X = tf.placeholder(tf.float32, [None, n_steps, n_inputs])\n",
    "y = tf.placeholder(tf.int32,[None])\n",
    "\n",
    "with tf.variable_scope('rnn', initializer=tf.variance_scaling_initializer()):\n",
    "    basic_cell = tf.contrib.rnn.BasicRNNCell(num_units=n_neurons)\n",
    "    outputs, states = tf.nn.dynamic_rnn(basic_cell, X, dtype=tf.float32)\n",
    "\n",
    "logits = tf.layers.dense(states, n_outputs)\n",
    "xentropy = tf.nn.sparse_softmax_cross_entropy_with_logits(labels=y, logits=logits)\n",
    "\n",
    "loss = tf.reduce_mean(xentropy)\n",
    "optimizer = tf.train.AdamOptimizer(learning_rate=learning_rate)\n",
    "training_op = optimizer.minimize(loss)\n",
    "correct = tf.nn.in_top_k(logits, y, 1)\n",
    "accuracy = tf.reduce_mean(tf.cast(correct, tf.float32))\n",
    "\n",
    "init = tf.global_variables_initializer()"
   ]
  },
  {
   "cell_type": "code",
   "execution_count": 25,
   "metadata": {
    "collapsed": true
   },
   "outputs": [],
   "source": [
    "from tensorflow.examples.tutorials.mnist import input_data"
   ]
  },
  {
   "cell_type": "code",
   "execution_count": 26,
   "metadata": {},
   "outputs": [
    {
     "name": "stdout",
     "output_type": "stream",
     "text": [
      "Extracting /tmp/data/train-images-idx3-ubyte.gz\n",
      "Extracting /tmp/data/train-labels-idx1-ubyte.gz\n",
      "Extracting /tmp/data/t10k-images-idx3-ubyte.gz\n",
      "Extracting /tmp/data/t10k-labels-idx1-ubyte.gz\n"
     ]
    }
   ],
   "source": [
    "mnist = input_data.read_data_sets('/tmp/data/')\n",
    "X_test = mnist.test.images.reshape((-1, n_steps, n_inputs))\n",
    "y_test = mnist.test.labels"
   ]
  },
  {
   "cell_type": "code",
   "execution_count": 27,
   "metadata": {
    "collapsed": true
   },
   "outputs": [],
   "source": [
    "n_epochs = 100\n",
    "batch_size = 150"
   ]
  },
  {
   "cell_type": "code",
   "execution_count": 28,
   "metadata": {},
   "outputs": [
    {
     "name": "stdout",
     "output_type": "stream",
     "text": [
      "0  Train accuracy:  0.8933333 Test accuracy:  0.9207\n",
      "1  Train accuracy:  0.96666664 Test accuracy:  0.9445\n",
      "2  Train accuracy:  0.98 Test accuracy:  0.9531\n",
      "3  Train accuracy:  0.9533333 Test accuracy:  0.9589\n",
      "4  Train accuracy:  0.97333336 Test accuracy:  0.9541\n",
      "5  Train accuracy:  0.98 Test accuracy:  0.9649\n",
      "6  Train accuracy:  0.98 Test accuracy:  0.9649\n",
      "7  Train accuracy:  0.96 Test accuracy:  0.9674\n",
      "8  Train accuracy:  0.98 Test accuracy:  0.9665\n",
      "9  Train accuracy:  0.9866667 Test accuracy:  0.9678\n",
      "10  Train accuracy:  0.99333334 Test accuracy:  0.9687\n",
      "11  Train accuracy:  0.98 Test accuracy:  0.9731\n",
      "12  Train accuracy:  0.99333334 Test accuracy:  0.9698\n",
      "13  Train accuracy:  1.0 Test accuracy:  0.9734\n",
      "14  Train accuracy:  0.94666666 Test accuracy:  0.9777\n",
      "15  Train accuracy:  0.99333334 Test accuracy:  0.977\n",
      "16  Train accuracy:  0.98 Test accuracy:  0.977\n",
      "17  Train accuracy:  0.98 Test accuracy:  0.9706\n",
      "18  Train accuracy:  0.9866667 Test accuracy:  0.9741\n",
      "19  Train accuracy:  0.9866667 Test accuracy:  0.9783\n",
      "20  Train accuracy:  0.9866667 Test accuracy:  0.9739\n",
      "21  Train accuracy:  0.98 Test accuracy:  0.9758\n",
      "22  Train accuracy:  0.98 Test accuracy:  0.9735\n",
      "23  Train accuracy:  0.99333334 Test accuracy:  0.9738\n",
      "24  Train accuracy:  0.9866667 Test accuracy:  0.9758\n",
      "25  Train accuracy:  0.97333336 Test accuracy:  0.9765\n",
      "26  Train accuracy:  0.99333334 Test accuracy:  0.9795\n",
      "27  Train accuracy:  0.98 Test accuracy:  0.9752\n",
      "28  Train accuracy:  1.0 Test accuracy:  0.9775\n",
      "29  Train accuracy:  0.97333336 Test accuracy:  0.9776\n",
      "30  Train accuracy:  0.99333334 Test accuracy:  0.9747\n",
      "31  Train accuracy:  0.99333334 Test accuracy:  0.9781\n",
      "32  Train accuracy:  0.99333334 Test accuracy:  0.9779\n",
      "33  Train accuracy:  0.99333334 Test accuracy:  0.9765\n",
      "34  Train accuracy:  0.9866667 Test accuracy:  0.979\n",
      "35  Train accuracy:  0.9866667 Test accuracy:  0.9737\n",
      "36  Train accuracy:  0.9866667 Test accuracy:  0.9761\n",
      "37  Train accuracy:  0.99333334 Test accuracy:  0.9802\n",
      "38  Train accuracy:  0.98 Test accuracy:  0.9688\n",
      "39  Train accuracy:  0.99333334 Test accuracy:  0.9811\n",
      "40  Train accuracy:  0.99333334 Test accuracy:  0.9764\n",
      "41  Train accuracy:  0.99333334 Test accuracy:  0.9786\n",
      "42  Train accuracy:  0.97333336 Test accuracy:  0.9732\n",
      "43  Train accuracy:  0.99333334 Test accuracy:  0.9811\n",
      "44  Train accuracy:  0.98 Test accuracy:  0.9733\n",
      "45  Train accuracy:  0.97333336 Test accuracy:  0.9643\n",
      "46  Train accuracy:  0.99333334 Test accuracy:  0.979\n",
      "47  Train accuracy:  1.0 Test accuracy:  0.9813\n",
      "48  Train accuracy:  0.99333334 Test accuracy:  0.9799\n",
      "49  Train accuracy:  0.99333334 Test accuracy:  0.9784\n",
      "50  Train accuracy:  1.0 Test accuracy:  0.981\n",
      "51  Train accuracy:  0.9866667 Test accuracy:  0.978\n",
      "52  Train accuracy:  0.99333334 Test accuracy:  0.9788\n",
      "53  Train accuracy:  0.99333334 Test accuracy:  0.9807\n",
      "54  Train accuracy:  0.98 Test accuracy:  0.9764\n",
      "55  Train accuracy:  1.0 Test accuracy:  0.9809\n",
      "56  Train accuracy:  1.0 Test accuracy:  0.977\n",
      "57  Train accuracy:  1.0 Test accuracy:  0.9775\n",
      "58  Train accuracy:  0.99333334 Test accuracy:  0.9741\n",
      "59  Train accuracy:  0.98 Test accuracy:  0.9775\n",
      "60  Train accuracy:  1.0 Test accuracy:  0.9747\n",
      "61  Train accuracy:  1.0 Test accuracy:  0.9813\n",
      "62  Train accuracy:  0.98 Test accuracy:  0.9789\n",
      "63  Train accuracy:  1.0 Test accuracy:  0.9808\n",
      "64  Train accuracy:  0.97333336 Test accuracy:  0.9757\n",
      "65  Train accuracy:  0.99333334 Test accuracy:  0.9795\n",
      "66  Train accuracy:  0.99333334 Test accuracy:  0.9778\n",
      "67  Train accuracy:  0.99333334 Test accuracy:  0.978\n",
      "68  Train accuracy:  0.9866667 Test accuracy:  0.9774\n",
      "69  Train accuracy:  1.0 Test accuracy:  0.9788\n",
      "70  Train accuracy:  0.98 Test accuracy:  0.9814\n",
      "71  Train accuracy:  1.0 Test accuracy:  0.9792\n",
      "72  Train accuracy:  1.0 Test accuracy:  0.9776\n",
      "73  Train accuracy:  0.9866667 Test accuracy:  0.9797\n",
      "74  Train accuracy:  0.99333334 Test accuracy:  0.9802\n",
      "75  Train accuracy:  1.0 Test accuracy:  0.9778\n",
      "76  Train accuracy:  0.99333334 Test accuracy:  0.9805\n",
      "77  Train accuracy:  1.0 Test accuracy:  0.975\n",
      "78  Train accuracy:  0.9866667 Test accuracy:  0.98\n",
      "79  Train accuracy:  0.99333334 Test accuracy:  0.9755\n",
      "80  Train accuracy:  0.99333334 Test accuracy:  0.9776\n",
      "81  Train accuracy:  0.99333334 Test accuracy:  0.9805\n",
      "82  Train accuracy:  0.96 Test accuracy:  0.976\n",
      "83  Train accuracy:  0.99333334 Test accuracy:  0.9778\n",
      "84  Train accuracy:  1.0 Test accuracy:  0.9819\n",
      "85  Train accuracy:  1.0 Test accuracy:  0.9796\n",
      "86  Train accuracy:  0.99333334 Test accuracy:  0.9793\n",
      "87  Train accuracy:  1.0 Test accuracy:  0.9798\n",
      "88  Train accuracy:  0.98 Test accuracy:  0.9796\n",
      "89  Train accuracy:  0.98 Test accuracy:  0.9772\n",
      "90  Train accuracy:  0.9866667 Test accuracy:  0.9782\n",
      "91  Train accuracy:  1.0 Test accuracy:  0.9799\n",
      "92  Train accuracy:  0.99333334 Test accuracy:  0.9789\n",
      "93  Train accuracy:  1.0 Test accuracy:  0.9729\n",
      "94  Train accuracy:  0.99333334 Test accuracy:  0.9779\n",
      "95  Train accuracy:  0.99333334 Test accuracy:  0.9766\n",
      "96  Train accuracy:  0.99333334 Test accuracy:  0.9778\n",
      "97  Train accuracy:  1.0 Test accuracy:  0.9758\n",
      "98  Train accuracy:  0.9866667 Test accuracy:  0.9768\n",
      "99  Train accuracy:  0.99333334 Test accuracy:  0.9764\n"
     ]
    }
   ],
   "source": [
    "with tf.Session() as sess:\n",
    "    init.run()\n",
    "    for epoch in range(n_epochs):\n",
    "        for iteration in range(mnist.train.num_examples // batch_size):\n",
    "            X_batch, y_batch = mnist.train.next_batch(batch_size)\n",
    "            X_batch = X_batch.reshape(-1, n_steps, n_inputs)\n",
    "            sess.run(training_op, feed_dict={X: X_batch, y: y_batch})\n",
    "        acc_train = accuracy.eval(feed_dict={X:X_batch, y:y_batch})\n",
    "        acc_test = accuracy.eval(feed_dict={X: X_test, y: y_test})\n",
    "        print(epoch, \" Train accuracy: \",acc_train, \"Test accuracy: \",acc_test)"
   ]
  },
  {
   "cell_type": "code",
   "execution_count": 29,
   "metadata": {},
   "outputs": [
    {
     "ename": "NameError",
     "evalue": "name 'next_batch' is not defined",
     "output_type": "error",
     "traceback": [
      "\u001b[1;31m---------------------------------------------------------------------------\u001b[0m",
      "\u001b[1;31mNameError\u001b[0m                                 Traceback (most recent call last)",
      "\u001b[1;32m<ipython-input-29-f348291e8681>\u001b[0m in \u001b[0;36m<module>\u001b[1;34m()\u001b[0m\n\u001b[0;32m     24\u001b[0m     \u001b[0minit\u001b[0m\u001b[1;33m.\u001b[0m\u001b[0mrun\u001b[0m\u001b[1;33m(\u001b[0m\u001b[1;33m)\u001b[0m\u001b[1;33m\u001b[0m\u001b[0m\n\u001b[0;32m     25\u001b[0m     \u001b[1;32mfor\u001b[0m \u001b[0miteration\u001b[0m \u001b[1;32min\u001b[0m \u001b[0mrange\u001b[0m\u001b[1;33m(\u001b[0m\u001b[0mn_iterations\u001b[0m\u001b[1;33m)\u001b[0m\u001b[1;33m:\u001b[0m\u001b[1;33m\u001b[0m\u001b[0m\n\u001b[1;32m---> 26\u001b[1;33m         \u001b[0mX_batch\u001b[0m\u001b[1;33m,\u001b[0m \u001b[0my_batch\u001b[0m \u001b[1;33m=\u001b[0m \u001b[0mnext_batch\u001b[0m\u001b[1;33m(\u001b[0m\u001b[0mbatch_size\u001b[0m\u001b[1;33m,\u001b[0m \u001b[0mn_steps\u001b[0m\u001b[1;33m)\u001b[0m\u001b[1;33m\u001b[0m\u001b[0m\n\u001b[0m\u001b[0;32m     27\u001b[0m         \u001b[0msess\u001b[0m\u001b[1;33m.\u001b[0m\u001b[0mrun\u001b[0m\u001b[1;33m(\u001b[0m\u001b[0mtraining_op\u001b[0m\u001b[1;33m,\u001b[0m \u001b[0mfeed_dict\u001b[0m\u001b[1;33m=\u001b[0m\u001b[1;33m{\u001b[0m\u001b[0mX\u001b[0m\u001b[1;33m:\u001b[0m \u001b[0mX_batch\u001b[0m\u001b[1;33m,\u001b[0m \u001b[0my\u001b[0m\u001b[1;33m:\u001b[0m \u001b[0my_batch\u001b[0m\u001b[1;33m}\u001b[0m\u001b[1;33m)\u001b[0m\u001b[1;33m\u001b[0m\u001b[0m\n\u001b[0;32m     28\u001b[0m         \u001b[1;32mif\u001b[0m \u001b[0miteration\u001b[0m \u001b[1;33m%\u001b[0m \u001b[1;36m100\u001b[0m \u001b[1;33m==\u001b[0m \u001b[1;36m0\u001b[0m\u001b[1;33m:\u001b[0m\u001b[1;33m\u001b[0m\u001b[0m\n",
      "\u001b[1;31mNameError\u001b[0m: name 'next_batch' is not defined"
     ]
    }
   ],
   "source": [
    "tf.reset_default_graph()\n",
    "n_steps = 20\n",
    "n_inputs = 1\n",
    "n_neurons = 100\n",
    "n_outputs = 1\n",
    "\n",
    "X = tf.placeholder(tf.float32, [None, n_steps, n_inputs])\n",
    "y = tf.placeholder(tf.float32, [None, n_steps, n_inputs])\n",
    "cell = tf.contrib.rnn.OutputProjectionWrapper(tf.contrib.rnn.BasicRNNCell(num_units=n_neurons, activation=tf.nn.relu), output_size=n_outputs)\n",
    "outputs, steps = tf.nn.dynamic_rnn(cell, X, dtype=tf.float32)\n",
    "\n",
    "learning_rate = 0.001\n",
    "\n",
    "loss = tf.reduce_mean(tf.square(outputs - y))\n",
    "optimizer = tf.train.AdamOptimizer(learning_rate=learning_rate)\n",
    "training_op = optimizer.minimize(loss)\n",
    "\n",
    "init = tf.global_variables_initializer()\n",
    "\n",
    "n_iterations = 2500\n",
    "batch_size = 50\n",
    "\n",
    "with tf.Session() as sess:\n",
    "    init.run()\n",
    "    for iteration in range(n_iterations):\n",
    "        X_batch, y_batch = next_batch(batch_size, n_steps)\n",
    "        sess.run(training_op, feed_dict={X: X_batch, y: y_batch})\n",
    "        if iteration % 100 == 0:\n",
    "            mse = loss.eval(feed_dict={X: X_batch, y:y_batch})\n",
    "            print(iteration, ' mse: ', mse)\n"
   ]
  },
  {
   "cell_type": "code",
   "execution_count": null,
   "metadata": {
    "collapsed": true
   },
   "outputs": [],
   "source": [
    "t_min, t_max = 0, 30\n",
    "\n",
    "resolution = 0.1\n",
    "\n",
    "def time_series(t):\n",
    "    return t * np.sin(t) /  3 + 2 * np.sin(t * 5)\n",
    "\n",
    "def next_batch(batch_size, n_steps):\n",
    "    t0 = np.random.rand(batch_size, 1) * (t_max - t_min - n_steps * resolution)\n",
    "    Ts = t0 + np.arange(0., n_steps + 1) * resolution\n",
    "    ys = time_series(Ts)\n",
    "    return ys[:, :-1].reshape(-1, n_steps, 1), ys[:, 1:].reshape(-1, n_steps, 1)"
   ]
  },
  {
   "cell_type": "code",
   "execution_count": null,
   "metadata": {
    "collapsed": true
   },
   "outputs": [],
   "source": [
    "t0 = np.random.rand(50, 1) * (t_max - t_min - n_steps * resolution)\n",
    "Ts = t0 + np.arange(0., 20 + 1) * resolution\n",
    "ys = time_series(Ts)"
   ]
  },
  {
   "cell_type": "code",
   "execution_count": null,
   "metadata": {},
   "outputs": [],
   "source": [
    "ys[0]"
   ]
  },
  {
   "cell_type": "code",
   "execution_count": null,
   "metadata": {},
   "outputs": [],
   "source": [
    "ys[0, :-1]"
   ]
  },
  {
   "cell_type": "code",
   "execution_count": null,
   "metadata": {},
   "outputs": [],
   "source": [
    "ys[0, 1:]"
   ]
  },
  {
   "cell_type": "code",
   "execution_count": null,
   "metadata": {
    "collapsed": true
   },
   "outputs": [],
   "source": []
  }
 ],
 "metadata": {
  "kernelspec": {
   "display_name": "Python 3",
   "language": "python",
   "name": "python3"
  },
  "language_info": {
   "codemirror_mode": {
    "name": "ipython",
    "version": 3
   },
   "file_extension": ".py",
   "mimetype": "text/x-python",
   "name": "python",
   "nbconvert_exporter": "python",
   "pygments_lexer": "ipython3",
   "version": "3.6.3"
  }
 },
 "nbformat": 4,
 "nbformat_minor": 2
}
