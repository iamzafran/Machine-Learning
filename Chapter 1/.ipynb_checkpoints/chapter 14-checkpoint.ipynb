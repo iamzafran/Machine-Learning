{
 "cells": [
  {
   "cell_type": "code",
   "execution_count": 1,
   "metadata": {},
   "outputs": [
    {
     "name": "stderr",
     "output_type": "stream",
     "text": [
      "C:\\ProgramData\\Anaconda3\\lib\\site-packages\\h5py\\__init__.py:34: FutureWarning: Conversion of the second argument of issubdtype from `float` to `np.floating` is deprecated. In future, it will be treated as `np.float64 == np.dtype(float).type`.\n",
      "  from ._conv import register_converters as _register_converters\n"
     ]
    }
   ],
   "source": [
    "import tensorflow as tf"
   ]
  },
  {
   "cell_type": "code",
   "execution_count": 2,
   "metadata": {
    "collapsed": true
   },
   "outputs": [],
   "source": [
    "n_inputs = 3\n",
    "n_neurons = 5"
   ]
  },
  {
   "cell_type": "code",
   "execution_count": 3,
   "metadata": {
    "collapsed": true
   },
   "outputs": [],
   "source": [
    "X0 = tf.placeholder(tf.float32, [None, n_inputs])\n",
    "X1 = tf.placeholder(tf.float32, [None, n_inputs])"
   ]
  },
  {
   "cell_type": "code",
   "execution_count": 4,
   "metadata": {
    "collapsed": true
   },
   "outputs": [],
   "source": [
    "Wx = tf.Variable(tf.random_normal(shape=[n_inputs, n_neurons], dtype=tf.float32))\n",
    "Wy = tf.Variable(tf.random_normal(shape=[n_neurons, n_neurons], dtype=tf.float32))\n",
    "b = tf.Variable(tf.zeros([1, n_neurons], dtype=tf.float32))"
   ]
  },
  {
   "cell_type": "code",
   "execution_count": 5,
   "metadata": {
    "collapsed": true
   },
   "outputs": [],
   "source": [
    "Y0 = tf.tanh(tf.matmul(X0, Wx) + b)\n",
    "Y1 = tf.tanh(tf.matmul(Y0, Wy) + tf.matmul(X1, Wx) + b)"
   ]
  },
  {
   "cell_type": "code",
   "execution_count": 6,
   "metadata": {
    "collapsed": true
   },
   "outputs": [],
   "source": [
    "init = tf.global_variables_initializer()"
   ]
  },
  {
   "cell_type": "code",
   "execution_count": 7,
   "metadata": {
    "collapsed": true
   },
   "outputs": [],
   "source": [
    "import numpy as np"
   ]
  },
  {
   "cell_type": "code",
   "execution_count": 8,
   "metadata": {
    "collapsed": true
   },
   "outputs": [],
   "source": [
    "X0_batch = np.array([[0, 1, 2], [3, 4, 5], [6, 7, 8], [9, 0, 1]])\n",
    "X1_batch = np.array([[9, 8, 7], [0, 0, 0], [6, 5, 4], [3, 2, 1]])"
   ]
  },
  {
   "cell_type": "code",
   "execution_count": 9,
   "metadata": {
    "collapsed": true
   },
   "outputs": [],
   "source": [
    "with tf.Session() as sess:\n",
    "    init.run()\n",
    "    Y0_val, Y1_val = sess.run([Y0, Y1], feed_dict={X0: X0_batch, X1: X1_batch})"
   ]
  },
  {
   "cell_type": "code",
   "execution_count": 10,
   "metadata": {},
   "outputs": [
    {
     "name": "stdout",
     "output_type": "stream",
     "text": [
      "[[-0.9013774   0.9552814  -0.9070268   0.95968324 -0.99918187]\n",
      " [-0.9999133   1.         -0.99999994  0.9999974  -0.9999729 ]\n",
      " [-0.99999994  1.         -1.          1.         -0.9999991 ]\n",
      " [-0.99996775  1.         -0.99999887 -0.9984842   1.        ]]\n"
     ]
    }
   ],
   "source": [
    "print(Y0_val)"
   ]
  },
  {
   "cell_type": "code",
   "execution_count": 11,
   "metadata": {},
   "outputs": [
    {
     "name": "stdout",
     "output_type": "stream",
     "text": [
      "[[-1.          1.         -1.          1.         -0.73311436]\n",
      " [-0.61194944 -0.3942462  -0.9997718  -0.02208802  0.4080248 ]\n",
      " [-0.9999935   1.         -1.          0.9999996   0.72914696]\n",
      " [-0.9970225   0.99999964 -0.9962613   0.7465646   0.99998057]]\n"
     ]
    }
   ],
   "source": [
    "print(Y1_val)"
   ]
  },
  {
   "cell_type": "code",
   "execution_count": 12,
   "metadata": {
    "collapsed": true
   },
   "outputs": [],
   "source": [
    "basic_cell = tf.contrib.rnn.BasicRNNCell(num_units=n_neurons)\n",
    "outputs_seqs, seqs = tf.contrib.rnn.static_rnn(basic_cell, [X0, X1], dtype=tf.float32)"
   ]
  },
  {
   "cell_type": "code",
   "execution_count": 13,
   "metadata": {
    "collapsed": true
   },
   "outputs": [],
   "source": [
    "Y0, Y1 = outputs_seqs"
   ]
  },
  {
   "cell_type": "code",
   "execution_count": 14,
   "metadata": {
    "collapsed": true
   },
   "outputs": [],
   "source": [
    "tf.reset_default_graph()\n",
    "\n",
    "n_steps = 2\n",
    "n_inputs = 3\n",
    "n_neurons = 5\n",
    "\n",
    "X = tf.placeholder(tf.float32, [None, n_steps, n_inputs])\n",
    "basic_cell = tf.contrib.rnn.BasicRNNCell(num_units=n_neurons)\n",
    "outputs, states = tf.nn.dynamic_rnn(basic_cell, X, dtype=tf.float32)"
   ]
  },
  {
   "cell_type": "code",
   "execution_count": null,
   "metadata": {
    "collapsed": true
   },
   "outputs": [],
   "source": []
  },
  {
   "cell_type": "code",
   "execution_count": 15,
   "metadata": {
    "collapsed": true
   },
   "outputs": [],
   "source": [
    "X_batch = np.array([\n",
    "    [[0, 1, 2], [9, 9, 7]],\n",
    "    [[3, 4, 5], [0, 0, 0]],\n",
    "    [[9, 0, 1], [3, 2, 1]]\n",
    "])"
   ]
  },
  {
   "cell_type": "code",
   "execution_count": 16,
   "metadata": {
    "collapsed": true
   },
   "outputs": [],
   "source": [
    "init = tf.global_variables_initializer()\n",
    "with tf.Session() as sess:\n",
    "    init.run()\n",
    "    outputs_val = outputs.eval(feed_dict={X: X_batch})"
   ]
  },
  {
   "cell_type": "code",
   "execution_count": 17,
   "metadata": {},
   "outputs": [
    {
     "data": {
      "text/plain": [
       "array([[[ 0.550708  , -0.24258323, -0.53810835,  0.4609802 ,\n",
       "         -0.84776783],\n",
       "        [ 1.        ,  0.9999177 ,  0.9254407 ,  0.99989694,\n",
       "         -1.        ]],\n",
       "\n",
       "       [[ 0.99917656,  0.8290796 , -0.31665954,  0.9667101 ,\n",
       "         -0.99998313],\n",
       "        [ 0.95041376,  0.35355875, -0.03963996,  0.38762426,\n",
       "         -0.10144832]],\n",
       "\n",
       "       [[ 0.9993832 ,  0.9815366 ,  0.99770457, -0.12677123,\n",
       "         -0.99998665],\n",
       "        [ 0.99811023,  0.99752265,  0.6573885 ,  0.9376716 ,\n",
       "         -0.99531746]]], dtype=float32)"
      ]
     },
     "execution_count": 17,
     "metadata": {},
     "output_type": "execute_result"
    }
   ],
   "source": [
    "outputs_val"
   ]
  },
  {
   "cell_type": "code",
   "execution_count": 18,
   "metadata": {
    "collapsed": true
   },
   "outputs": [],
   "source": [
    "tf.reset_default_graph()\n",
    "\n",
    "seq_length = tf.placeholder(tf.int32, [None])\n",
    "X = tf.placeholder(tf.float32, [None, n_steps, n_inputs])\n",
    "basic_cell = tf.contrib.rnn.BasicRNNCell(num_units=n_neurons)\n",
    "outputs, states = tf.nn.dynamic_rnn(basic_cell, X, dtype=tf.float32, sequence_length=seq_length)\n"
   ]
  },
  {
   "cell_type": "code",
   "execution_count": 19,
   "metadata": {
    "collapsed": true
   },
   "outputs": [],
   "source": [
    "X_batch = np.array([\n",
    "    [[0, 1, 2], [9, 8, 7]],\n",
    "    [[3, 4, 5], [0, 0, 0]],\n",
    "    [[6, 7, 8], [6, 5, 4]],\n",
    "    [[9, 0, 1], [3, 2, 1]]\n",
    "])"
   ]
  },
  {
   "cell_type": "code",
   "execution_count": 20,
   "metadata": {
    "collapsed": true
   },
   "outputs": [],
   "source": [
    "seq_length_batch = np.array([2, 1, 2, 2])"
   ]
  },
  {
   "cell_type": "code",
   "execution_count": 21,
   "metadata": {
    "collapsed": true
   },
   "outputs": [],
   "source": [
    "init = tf.global_variables_initializer()\n",
    "\n",
    "with tf.Session() as sess:\n",
    "    init.run()\n",
    "    outputs_val, states_val = sess.run([outputs, states], feed_dict={X: X_batch, seq_length: seq_length_batch})"
   ]
  },
  {
   "cell_type": "code",
   "execution_count": 22,
   "metadata": {},
   "outputs": [
    {
     "data": {
      "text/plain": [
       "array([[[ 0.9068093 , -0.8588264 , -0.94544035,  0.05710599,\n",
       "         -0.14121872],\n",
       "        [ 0.99999917, -0.99999994, -1.        , -0.9959577 ,\n",
       "          0.9999986 ]],\n",
       "\n",
       "       [[ 0.99975127, -0.99973464, -0.99997383, -0.6740584 ,\n",
       "          0.98186225],\n",
       "        [ 0.        ,  0.        ,  0.        ,  0.        ,\n",
       "          0.        ]],\n",
       "\n",
       "       [[ 0.99999934, -0.9999995 , -1.        , -0.934586  ,\n",
       "          0.99987394],\n",
       "        [ 0.999794  , -0.99998033, -0.9999944 , -0.98630726,\n",
       "          0.99981534]],\n",
       "\n",
       "       [[ 0.27752852, -0.99885935, -0.8578525 , -0.9664612 ,\n",
       "          0.9998545 ],\n",
       "        [ 0.95259297, -0.98031276, -0.9934319 , -0.844346  ,\n",
       "          0.9811366 ]]], dtype=float32)"
      ]
     },
     "execution_count": 22,
     "metadata": {},
     "output_type": "execute_result"
    }
   ],
   "source": [
    "outputs_val"
   ]
  },
  {
   "cell_type": "code",
   "execution_count": 23,
   "metadata": {},
   "outputs": [
    {
     "data": {
      "text/plain": [
       "array([[ 0.99999917, -0.99999994, -1.        , -0.9959577 ,  0.9999986 ],\n",
       "       [ 0.99975127, -0.99973464, -0.99997383, -0.6740584 ,  0.98186225],\n",
       "       [ 0.999794  , -0.99998033, -0.9999944 , -0.98630726,  0.99981534],\n",
       "       [ 0.95259297, -0.98031276, -0.9934319 , -0.844346  ,  0.9811366 ]],\n",
       "      dtype=float32)"
      ]
     },
     "execution_count": 23,
     "metadata": {},
     "output_type": "execute_result"
    }
   ],
   "source": [
    "states_val"
   ]
  },
  {
   "cell_type": "code",
   "execution_count": 25,
   "metadata": {},
   "outputs": [],
   "source": [
    "tf.reset_default_graph()\n",
    "n_steps = 28\n",
    "n_inputs = 28\n",
    "n_neurons = 150\n",
    "n_outputs =10\n",
    "\n",
    "learning_rate = 0.001\n",
    "\n",
    "X = tf.placeholder(tf.float32, [None, n_steps, n_inputs])\n",
    "y = tf.placeholder(tf.int32,[None])\n",
    "\n",
    "with tf.variable_scope('rnn', initializer=tf.variance_scaling_initializer()):\n",
    "    basic_cell = tf.contrib.rnn.BasicRNNCell(num_units=n_neurons)\n",
    "    outputs, states = tf.nn.dynamic_rnn(basic_cell, X, dtype=tf.float32)\n",
    "\n",
    "logits = tf.layers.dense(states, n_outputs)\n",
    "xentropy = tf.nn.sparse_softmax_cross_entropy_with_logits(labels=y, logits=logits)\n",
    "\n",
    "loss = tf.reduce_mean(xentropy)\n",
    "optimizer = tf.train.AdamOptimizer(learning_rate=learning_rate)\n",
    "training_op = optimizer.minimize(loss)\n",
    "correct = tf.nn.in_top_k(logits, y, 1)\n",
    "accuracy = tf.reduce_mean(tf.cast(correct, tf.float32))\n",
    "\n",
    "init = tf.global_variables_initializer()"
   ]
  },
  {
   "cell_type": "code",
   "execution_count": 26,
   "metadata": {
    "collapsed": true
   },
   "outputs": [],
   "source": [
    "from tensorflow.examples.tutorials.mnist import input_data"
   ]
  },
  {
   "cell_type": "code",
   "execution_count": 27,
   "metadata": {},
   "outputs": [
    {
     "name": "stdout",
     "output_type": "stream",
     "text": [
      "Extracting /tmp/data/train-images-idx3-ubyte.gz\n",
      "Extracting /tmp/data/train-labels-idx1-ubyte.gz\n",
      "Extracting /tmp/data/t10k-images-idx3-ubyte.gz\n",
      "Extracting /tmp/data/t10k-labels-idx1-ubyte.gz\n"
     ]
    }
   ],
   "source": [
    "mnist = input_data.read_data_sets('/tmp/data/')\n",
    "X_test = mnist.test.images.reshape((-1, n_steps, n_inputs))\n",
    "y_test = mnist.test.labels"
   ]
  },
  {
   "cell_type": "code",
   "execution_count": 28,
   "metadata": {
    "collapsed": true
   },
   "outputs": [],
   "source": [
    "n_epochs = 100\n",
    "batch_size = 150"
   ]
  },
  {
   "cell_type": "code",
   "execution_count": 29,
   "metadata": {},
   "outputs": [
    {
     "name": "stdout",
     "output_type": "stream",
     "text": [
      "0  Train accuracy:  0.93333334 Test accuracy:  0.9112\n",
      "1  Train accuracy:  0.94666666 Test accuracy:  0.9487\n",
      "2  Train accuracy:  0.97333336 Test accuracy:  0.9579\n",
      "3  Train accuracy:  0.9533333 Test accuracy:  0.9583\n",
      "4  Train accuracy:  0.9866667 Test accuracy:  0.962\n",
      "5  Train accuracy:  0.98 Test accuracy:  0.9666\n",
      "6  Train accuracy:  0.96666664 Test accuracy:  0.9714\n",
      "7  Train accuracy:  0.96666664 Test accuracy:  0.9697\n",
      "8  Train accuracy:  0.9866667 Test accuracy:  0.9729\n",
      "9  Train accuracy:  0.98 Test accuracy:  0.9649\n",
      "10  Train accuracy:  0.98 Test accuracy:  0.9721\n",
      "11  Train accuracy:  0.98 Test accuracy:  0.9705\n",
      "12  Train accuracy:  0.98 Test accuracy:  0.9746\n",
      "13  Train accuracy:  0.9866667 Test accuracy:  0.9708\n",
      "14  Train accuracy:  0.97333336 Test accuracy:  0.9693\n",
      "15  Train accuracy:  0.97333336 Test accuracy:  0.9766\n",
      "16  Train accuracy:  0.98 Test accuracy:  0.9745\n",
      "17  Train accuracy:  0.98 Test accuracy:  0.9769\n",
      "18  Train accuracy:  0.97333336 Test accuracy:  0.9756\n",
      "19  Train accuracy:  0.98 Test accuracy:  0.9589\n",
      "20  Train accuracy:  1.0 Test accuracy:  0.9785\n",
      "21  Train accuracy:  1.0 Test accuracy:  0.9736\n",
      "22  Train accuracy:  0.99333334 Test accuracy:  0.9793\n",
      "23  Train accuracy:  0.9866667 Test accuracy:  0.9731\n",
      "24  Train accuracy:  0.99333334 Test accuracy:  0.9755\n",
      "25  Train accuracy:  0.9866667 Test accuracy:  0.9783\n",
      "26  Train accuracy:  0.99333334 Test accuracy:  0.9748\n",
      "27  Train accuracy:  0.99333334 Test accuracy:  0.9782\n",
      "28  Train accuracy:  0.96666664 Test accuracy:  0.9761\n",
      "29  Train accuracy:  1.0 Test accuracy:  0.9808\n",
      "30  Train accuracy:  0.99333334 Test accuracy:  0.9764\n",
      "31  Train accuracy:  0.99333334 Test accuracy:  0.9759\n",
      "32  Train accuracy:  1.0 Test accuracy:  0.9793\n",
      "33  Train accuracy:  0.99333334 Test accuracy:  0.9728\n",
      "34  Train accuracy:  0.9866667 Test accuracy:  0.9769\n",
      "35  Train accuracy:  0.98 Test accuracy:  0.9768\n",
      "36  Train accuracy:  1.0 Test accuracy:  0.9802\n",
      "37  Train accuracy:  1.0 Test accuracy:  0.9794\n",
      "38  Train accuracy:  0.99333334 Test accuracy:  0.974\n",
      "39  Train accuracy:  1.0 Test accuracy:  0.9774\n",
      "40  Train accuracy:  0.99333334 Test accuracy:  0.9791\n",
      "41  Train accuracy:  1.0 Test accuracy:  0.9796\n",
      "42  Train accuracy:  0.98 Test accuracy:  0.9755\n",
      "43  Train accuracy:  1.0 Test accuracy:  0.9787\n",
      "44  Train accuracy:  0.99333334 Test accuracy:  0.9771\n",
      "45  Train accuracy:  1.0 Test accuracy:  0.9795\n",
      "46  Train accuracy:  0.9866667 Test accuracy:  0.976\n",
      "47  Train accuracy:  0.9866667 Test accuracy:  0.9746\n",
      "48  Train accuracy:  1.0 Test accuracy:  0.9782\n",
      "49  Train accuracy:  0.99333334 Test accuracy:  0.9765\n",
      "50  Train accuracy:  0.98 Test accuracy:  0.9752\n",
      "51  Train accuracy:  0.99333334 Test accuracy:  0.9787\n",
      "52  Train accuracy:  0.99333334 Test accuracy:  0.976\n",
      "53  Train accuracy:  0.99333334 Test accuracy:  0.9814\n",
      "54  Train accuracy:  0.98 Test accuracy:  0.9734\n",
      "55  Train accuracy:  1.0 Test accuracy:  0.9771\n",
      "56  Train accuracy:  0.99333334 Test accuracy:  0.9771\n",
      "57  Train accuracy:  0.9866667 Test accuracy:  0.9769\n",
      "58  Train accuracy:  0.9866667 Test accuracy:  0.9781\n",
      "59  Train accuracy:  1.0 Test accuracy:  0.9812\n",
      "60  Train accuracy:  0.9866667 Test accuracy:  0.9788\n",
      "61  Train accuracy:  0.9866667 Test accuracy:  0.9769\n",
      "62  Train accuracy:  0.99333334 Test accuracy:  0.9804\n",
      "63  Train accuracy:  0.99333334 Test accuracy:  0.9768\n",
      "64  Train accuracy:  1.0 Test accuracy:  0.98\n",
      "65  Train accuracy:  1.0 Test accuracy:  0.9786\n",
      "66  Train accuracy:  0.99333334 Test accuracy:  0.978\n",
      "67  Train accuracy:  0.99333334 Test accuracy:  0.9768\n",
      "68  Train accuracy:  1.0 Test accuracy:  0.9779\n",
      "69  Train accuracy:  0.99333334 Test accuracy:  0.9778\n",
      "70  Train accuracy:  0.9866667 Test accuracy:  0.9744\n",
      "71  Train accuracy:  0.99333334 Test accuracy:  0.9775\n",
      "72  Train accuracy:  0.9866667 Test accuracy:  0.9767\n",
      "73  Train accuracy:  0.99333334 Test accuracy:  0.9716\n",
      "74  Train accuracy:  0.99333334 Test accuracy:  0.9753\n",
      "75  Train accuracy:  0.99333334 Test accuracy:  0.9805\n",
      "76  Train accuracy:  1.0 Test accuracy:  0.9733\n",
      "77  Train accuracy:  0.99333334 Test accuracy:  0.9785\n",
      "78  Train accuracy:  1.0 Test accuracy:  0.9783\n",
      "79  Train accuracy:  0.9866667 Test accuracy:  0.9739\n",
      "80  Train accuracy:  0.9866667 Test accuracy:  0.9776\n",
      "81  Train accuracy:  1.0 Test accuracy:  0.9775\n",
      "82  Train accuracy:  1.0 Test accuracy:  0.9813\n",
      "83  Train accuracy:  0.99333334 Test accuracy:  0.9798\n",
      "84  Train accuracy:  0.98 Test accuracy:  0.974\n",
      "85  Train accuracy:  0.98 Test accuracy:  0.9746\n",
      "86  Train accuracy:  1.0 Test accuracy:  0.9758\n",
      "87  Train accuracy:  1.0 Test accuracy:  0.9768\n",
      "88  Train accuracy:  0.9866667 Test accuracy:  0.9767\n",
      "89  Train accuracy:  1.0 Test accuracy:  0.9801\n",
      "90  Train accuracy:  1.0 Test accuracy:  0.9735\n",
      "91  Train accuracy:  1.0 Test accuracy:  0.9758\n",
      "92  Train accuracy:  0.99333334 Test accuracy:  0.9811\n",
      "93  Train accuracy:  0.9866667 Test accuracy:  0.9802\n",
      "94  Train accuracy:  0.97333336 Test accuracy:  0.9704\n",
      "95  Train accuracy:  1.0 Test accuracy:  0.975\n",
      "96  Train accuracy:  0.99333334 Test accuracy:  0.97\n",
      "97  Train accuracy:  1.0 Test accuracy:  0.9791\n",
      "98  Train accuracy:  0.99333334 Test accuracy:  0.9748\n",
      "99  Train accuracy:  0.9866667 Test accuracy:  0.9774\n"
     ]
    }
   ],
   "source": [
    "with tf.Session() as sess:\n",
    "    init.run()\n",
    "    for epoch in range(n_epochs):\n",
    "        for iteration in range(mnist.train.num_examples // batch_size):\n",
    "            X_batch, y_batch = mnist.train.next_batch(batch_size)\n",
    "            X_batch = X_batch.reshape(-1, n_steps, n_inputs)\n",
    "            sess.run(training_op, feed_dict={X: X_batch, y: y_batch})\n",
    "        acc_train = accuracy.eval(feed_dict={X:X_batch, y:y_batch})\n",
    "        acc_test = accuracy.eval(feed_dict={X: X_test, y: y_test})\n",
    "        print(epoch, \" Train accuracy: \",acc_train, \"Test accuracy: \",acc_test)"
   ]
  },
  {
   "cell_type": "code",
   "execution_count": null,
   "metadata": {
    "collapsed": true
   },
   "outputs": [],
   "source": []
  }
 ],
 "metadata": {
  "kernelspec": {
   "display_name": "Python 3",
   "language": "python",
   "name": "python3"
  },
  "language_info": {
   "codemirror_mode": {
    "name": "ipython",
    "version": 3
   },
   "file_extension": ".py",
   "mimetype": "text/x-python",
   "name": "python",
   "nbconvert_exporter": "python",
   "pygments_lexer": "ipython3",
   "version": "3.6.3"
  }
 },
 "nbformat": 4,
 "nbformat_minor": 2
}
