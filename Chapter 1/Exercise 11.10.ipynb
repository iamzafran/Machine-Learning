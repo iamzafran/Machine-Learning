{
 "cells": [
  {
   "cell_type": "code",
   "execution_count": 1,
   "metadata": {},
   "outputs": [
    {
     "name": "stderr",
     "output_type": "stream",
     "text": [
      "C:\\ProgramData\\Anaconda3\\lib\\site-packages\\h5py\\__init__.py:34: FutureWarning: Conversion of the second argument of issubdtype from `float` to `np.floating` is deprecated. In future, it will be treated as `np.float64 == np.dtype(float).type`.\n",
      "  from ._conv import register_converters as _register_converters\n"
     ]
    }
   ],
   "source": [
    "import tensorflow as tf\n",
    "import numpy as np\n",
    "\n",
    "n_inputs = 28 * 28\n",
    "\n"
   ]
  },
  {
   "cell_type": "code",
   "execution_count": 2,
   "metadata": {
    "collapsed": true
   },
   "outputs": [],
   "source": [
    "he_init = tf.contrib.layers.variance_scaling_initializer()"
   ]
  },
  {
   "cell_type": "code",
   "execution_count": 3,
   "metadata": {},
   "outputs": [],
   "source": [
    "def reset_graph(seed=42):\n",
    "    tf.reset_default_graph()\n",
    "    tf.set_random_seed(seed)\n",
    "    np.random.seed(seed)\n",
    "\n",
    "def dnn(inputs, n_hidden_layers=5, n_neurons=100,activation=tf.nn.elu, initializer=he_init, name=None):\n",
    "    \n",
    "    with tf.variable_scope('dnn'):\n",
    "        for layer in range(n_hidden_layers):\n",
    "            inputs = tf.layers.dense(inputs, n_neurons, activation=activation, kernel_initializer=initializer, name=name+\"hidden%d\"%(layer+1))\n",
    "        \n",
    "        return inputs"
   ]
  },
  {
   "cell_type": "code",
   "execution_count": 4,
   "metadata": {},
   "outputs": [],
   "source": [
    "X = tf.placeholder(tf.float32, shape=(None, 2, n_inputs), name='X')\n",
    "X1, X2 = tf.unstack(X, axis=1)\n",
    "y = tf.placeholder(tf.int32, shape=[None, 1])\n",
    "he_init = tf.contrib.layers.variance_scaling_initializer()\n",
    "\n",
    "dnn1 = dnn(X1, name='DNN_A')\n",
    "dnn2 = dnn(X2, name='DNN_B')"
   ]
  },
  {
   "cell_type": "code",
   "execution_count": 5,
   "metadata": {
    "collapsed": true
   },
   "outputs": [],
   "source": [
    "dnn_outputs = tf.concat([dnn1, dnn2], axis=1)"
   ]
  },
  {
   "cell_type": "code",
   "execution_count": 6,
   "metadata": {
    "collapsed": true
   },
   "outputs": [],
   "source": [
    "hidden = tf.layers.dense(dnn_outputs, units=10, activation=tf.nn.elu, kernel_initializer=he_init)\n",
    "logits = tf.layers.dense(hidden, units=1, kernel_initializer=he_init)\n",
    "y_proba = tf.nn.sigmoid(logits)"
   ]
  },
  {
   "cell_type": "code",
   "execution_count": 7,
   "metadata": {
    "collapsed": true
   },
   "outputs": [],
   "source": [
    "y_pred = tf.cast(tf.greater_equal(logits, 0), tf.int32)"
   ]
  },
  {
   "cell_type": "code",
   "execution_count": 8,
   "metadata": {
    "collapsed": true
   },
   "outputs": [],
   "source": [
    "y_as_float = tf.cast(y, tf.float32)\n",
    "xentropy = tf.nn.sigmoid_cross_entropy_with_logits(labels=y_as_float, logits=logits)\n",
    "loss = tf.reduce_mean(xentropy)"
   ]
  },
  {
   "cell_type": "code",
   "execution_count": 9,
   "metadata": {
    "collapsed": true
   },
   "outputs": [],
   "source": [
    "learning_rate = 0.01\n",
    "momentum = 0.95\n",
    "\n",
    "optimizer = tf.train.MomentumOptimizer(learning_rate, momentum, use_nesterov=True)\n",
    "training_op = optimizer.minimize(loss)"
   ]
  },
  {
   "cell_type": "code",
   "execution_count": 10,
   "metadata": {
    "collapsed": true
   },
   "outputs": [],
   "source": [
    "y_pred_correct = tf.equal(y_pred, y)\n",
    "accuracy = tf.reduce_mean(tf.cast(y_pred_correct, tf.float32))"
   ]
  },
  {
   "cell_type": "code",
   "execution_count": 11,
   "metadata": {
    "collapsed": true
   },
   "outputs": [],
   "source": [
    "init = tf.global_variables_initializer()\n",
    "saver = tf.train.Saver()"
   ]
  },
  {
   "cell_type": "code",
   "execution_count": 12,
   "metadata": {},
   "outputs": [
    {
     "name": "stdout",
     "output_type": "stream",
     "text": [
      "Extracting /tmp/data/train-images-idx3-ubyte.gz\n",
      "Extracting /tmp/data/train-labels-idx1-ubyte.gz\n",
      "Extracting /tmp/data/t10k-images-idx3-ubyte.gz\n",
      "Extracting /tmp/data/t10k-labels-idx1-ubyte.gz\n"
     ]
    }
   ],
   "source": [
    "from tensorflow.examples.tutorials.mnist import input_data\n",
    "mnist = input_data.read_data_sets(\"/tmp/data/\")"
   ]
  },
  {
   "cell_type": "code",
   "execution_count": 13,
   "metadata": {
    "collapsed": true
   },
   "outputs": [],
   "source": [
    "X_train1 = mnist.train.images\n",
    "y_train1 = mnist.train.labels\n",
    "\n",
    "X_train2 = mnist.validation.images\n",
    "y_train2 = mnist.validation.labels\n",
    "\n",
    "X_test = mnist.test.images\n",
    "y_test = mnist.test.labels"
   ]
  },
  {
   "cell_type": "code",
   "execution_count": 14,
   "metadata": {},
   "outputs": [],
   "source": [
    "def generate_batch(images, labels, batch_size):\n",
    "    size1 = batch_size // 2\n",
    "    size2 = batch_size - size1\n",
    "    \n",
    "    if size1 != size2 and np.random.rand() > 0.5:\n",
    "        size1, size2 = size2, size1\n",
    "    X = []\n",
    "    y = []\n",
    "    \n",
    "    while len(X) < size1:\n",
    "        rnd_idx1, rnd_idx2 = np.random.randint(0, len(images), 2)\n",
    "        if rnd_idx1 != rnd_idx2 and labels[rnd_idx1] == labels[rnd_idx2]:\n",
    "            X.append(np.array([images[rnd_idx1], images[rnd_idx2]]))\n",
    "            y.append([1])\n",
    "    while len(X) < batch_size:\n",
    "        rnd_idx1, rnd_idx2 = np.random.randint(0, len(images), 2)\n",
    "        if labels[rnd_idx1] != labels[rnd_idx2]:\n",
    "            X.append(np.array([images[rnd_idx1], images[rnd_idx2]]))\n",
    "            y.append([0])\n",
    "    rnd_indices = np.random.permutation(batch_size)\n",
    "    return np.array(X)[rnd_indices], np.array(y)[rnd_indices]\n",
    "    \n",
    "        "
   ]
  },
  {
   "cell_type": "code",
   "execution_count": 15,
   "metadata": {},
   "outputs": [],
   "source": [
    "batch_size = 5\n",
    "X_batch, y_batch = generate_batch(X_train1, y_train1, batch_size)"
   ]
  },
  {
   "cell_type": "code",
   "execution_count": null,
   "metadata": {},
   "outputs": [],
   "source": []
  },
  {
   "cell_type": "code",
   "execution_count": 16,
   "metadata": {},
   "outputs": [
    {
     "data": {
      "image/png": "[encoded data removed]",
      "text/plain": [
       "<matplotlib.figure.Figure at 0x2bd2bffeac8>"
      ]
     },
     "metadata": {},
     "output_type": "display_data"
    }
   ],
   "source": [
    "%matplotlib inline\n",
    "import matplotlib\n",
    "import matplotlib.pyplot as plt\n",
    "\n",
    "plt.figure(figsize=(3, 3 * batch_size))\n",
    "plt.subplot(121)\n",
    "plt.imshow(X_batch[:,0].reshape(28 * batch_size, 28), cmap=\"binary\", interpolation=\"nearest\")\n",
    "plt.axis('off')\n",
    "plt.subplot(122)\n",
    "plt.imshow(X_batch[:,1].reshape(28 * batch_size, 28), cmap=\"binary\", interpolation=\"nearest\")\n",
    "plt.axis('off')\n",
    "plt.show()"
   ]
  },
  {
   "cell_type": "code",
   "execution_count": 17,
   "metadata": {},
   "outputs": [
    {
     "data": {
      "text/plain": [
       "array([[0],\n",
       "       [1],\n",
       "       [0],\n",
       "       [1],\n",
       "       [1]])"
      ]
     },
     "execution_count": 17,
     "metadata": {},
     "output_type": "execute_result"
    }
   ],
   "source": [
    "y_batch"
   ]
  },
  {
   "cell_type": "code",
   "execution_count": 18,
   "metadata": {
    "collapsed": true
   },
   "outputs": [],
   "source": [
    "X_test1, y_test1 = generate_batch(X_test, y_test, batch_size=len(X_test))"
   ]
  },
  {
   "cell_type": "code",
   "execution_count": 19,
   "metadata": {
    "collapsed": true
   },
   "outputs": [],
   "source": [
    "n_epochs = 100\n",
    "batch_size = 500"
   ]
  },
  {
   "cell_type": "code",
   "execution_count": 20,
   "metadata": {},
   "outputs": [
    {
     "name": "stdout",
     "output_type": "stream",
     "text": [
      "0 Train loss: 0.5338755\n",
      "0 Test accuracy 0.7408\n",
      "1 Train loss: 0.39046204\n",
      "2 Train loss: 0.31425804\n",
      "3 Train loss: 0.28741845\n",
      "4 Train loss: 0.24531163\n",
      "5 Train loss: 0.25674966\n",
      "5 Test accuracy 0.9047\n",
      "6 Train loss: 0.21340445\n",
      "7 Train loss: 0.18449663\n",
      "8 Train loss: 0.20152755\n",
      "9 Train loss: 0.14857554\n",
      "10 Train loss: 0.12550351\n",
      "10 Test accuracy 0.94\n",
      "11 Train loss: 0.1592762\n",
      "12 Train loss: 0.1570555\n",
      "13 Train loss: 0.13846368\n",
      "14 Train loss: 0.16024707\n",
      "15 Train loss: 0.11052166\n",
      "15 Test accuracy 0.9541\n",
      "16 Train loss: 0.102970876\n",
      "17 Train loss: 0.10418608\n",
      "18 Train loss: 0.119449675\n",
      "19 Train loss: 0.12207922\n",
      "20 Train loss: 0.10479155\n",
      "20 Test accuracy 0.9565\n",
      "21 Train loss: 0.091848664\n",
      "22 Train loss: 0.09217306\n",
      "23 Train loss: 0.049737953\n",
      "24 Train loss: 0.07485326\n",
      "25 Train loss: 0.0739202\n",
      "25 Test accuracy 0.965\n",
      "26 Train loss: 0.082870595\n",
      "27 Train loss: 0.062747\n",
      "28 Train loss: 0.07317226\n",
      "29 Train loss: 0.08445044\n",
      "30 Train loss: 0.090127766\n",
      "30 Test accuracy 0.9639\n",
      "31 Train loss: 0.04166068\n",
      "32 Train loss: 0.07437489\n",
      "33 Train loss: 0.06800273\n",
      "34 Train loss: 0.045411207\n",
      "35 Train loss: 0.06780513\n",
      "35 Test accuracy 0.9709\n",
      "36 Train loss: 0.049259707\n",
      "37 Train loss: 0.09361489\n",
      "38 Train loss: 0.07276326\n",
      "39 Train loss: 0.04074905\n",
      "40 Train loss: 0.053407826\n",
      "40 Test accuracy 0.9692\n",
      "41 Train loss: 0.043260556\n",
      "42 Train loss: 0.02944677\n",
      "43 Train loss: 0.05494993\n",
      "44 Train loss: 0.039922547\n",
      "45 Train loss: 0.051651634\n",
      "45 Test accuracy 0.9726\n",
      "46 Train loss: 0.043890547\n",
      "47 Train loss: 0.06915612\n",
      "48 Train loss: 0.05046885\n",
      "49 Train loss: 0.024549404\n",
      "50 Train loss: 0.03918027\n",
      "50 Test accuracy 0.9738\n",
      "51 Train loss: 0.057676256\n",
      "52 Train loss: 0.05272555\n",
      "53 Train loss: 0.03333446\n",
      "54 Train loss: 0.024490153\n",
      "55 Train loss: 0.039820354\n",
      "55 Test accuracy 0.9756\n",
      "56 Train loss: 0.054805465\n",
      "57 Train loss: 0.030655699\n",
      "58 Train loss: 0.04008755\n",
      "59 Train loss: 0.031412754\n",
      "60 Train loss: 0.04563334\n",
      "60 Test accuracy 0.9773\n",
      "61 Train loss: 0.04114746\n",
      "62 Train loss: 0.031952746\n",
      "63 Train loss: 0.031598046\n",
      "64 Train loss: 0.038807347\n",
      "65 Train loss: 0.041743904\n",
      "65 Test accuracy 0.9756\n",
      "66 Train loss: 0.031175995\n",
      "67 Train loss: 0.041053806\n",
      "68 Train loss: 0.018462965\n",
      "69 Train loss: 0.034604102\n",
      "70 Train loss: 0.008461965\n",
      "70 Test accuracy 0.9741\n",
      "71 Train loss: 0.010124613\n",
      "72 Train loss: 0.03606652\n",
      "73 Train loss: 0.026071927\n",
      "74 Train loss: 0.032291736\n",
      "75 Train loss: 0.04074055\n",
      "75 Test accuracy 0.978\n",
      "76 Train loss: 0.030279888\n",
      "77 Train loss: 0.0207566\n",
      "78 Train loss: 0.012694435\n",
      "79 Train loss: 0.013862515\n",
      "80 Train loss: 0.016103048\n",
      "80 Test accuracy 0.9782\n",
      "81 Train loss: 0.01367185\n",
      "82 Train loss: 0.017456725\n",
      "83 Train loss: 0.017235382\n",
      "84 Train loss: 0.03419717\n",
      "85 Train loss: 0.010985473\n",
      "85 Test accuracy 0.9779\n",
      "86 Train loss: 0.008451899\n",
      "87 Train loss: 0.02402382\n",
      "88 Train loss: 0.019891111\n",
      "89 Train loss: 0.03477874\n",
      "90 Train loss: 0.027837394\n",
      "90 Test accuracy 0.9771\n",
      "91 Train loss: 0.028441226\n",
      "92 Train loss: 0.018650029\n",
      "93 Train loss: 0.021418009\n",
      "94 Train loss: 0.011922933\n",
      "95 Train loss: 0.028555369\n",
      "95 Test accuracy 0.9767\n",
      "96 Train loss: 0.030030675\n",
      "97 Train loss: 0.0323244\n",
      "98 Train loss: 0.011986656\n",
      "99 Train loss: 0.030822968\n"
     ]
    }
   ],
   "source": [
    "with tf.Session() as sess:\n",
    "    init.run()\n",
    "    for epoch in range(n_epochs):\n",
    "        for iteration in range(mnist.train.num_examples // batch_size):\n",
    "            X_batch, y_batch = generate_batch(X_train1, y_train1, batch_size)\n",
    "            loss_val, _ = sess.run([loss, training_op], feed_dict={X: X_batch, y: y_batch})\n",
    "        print(epoch, \"Train loss:\", loss_val)\n",
    "        if epoch % 5 == 0:\n",
    "            acc_test = accuracy.eval(feed_dict={X: X_test1, y: y_test1})\n",
    "            print(epoch, \"Test accuracy\", acc_test)\n",
    "    save_path = saver.save(sess,'./my_digit_comparison_model.ckpt')"
   ]
  },
  {
   "cell_type": "code",
   "execution_count": 21,
   "metadata": {},
   "outputs": [],
   "source": [
    "from datetime import datetime\n",
    "\n",
    "now = datetime.utcnow().strftime('%Y%m%d%H%H%S')\n",
    "root_logdir = 'tf_logs'\n",
    "logdir = \"{}/run-{}/\".format(root_logdir, \"DNN\")\n",
    "file_writer = tf.summary.FileWriter(logdir, tf.get_default_graph())"
   ]
  },
  {
   "cell_type": "code",
   "execution_count": 27,
   "metadata": {},
   "outputs": [
    {
     "data": {
      "text/plain": [
       "<tf.Tensor 'dnn/DNN_Ahidden5/Elu:0' shape=(?, 100) dtype=float32>"
      ]
     },
     "execution_count": 27,
     "metadata": {},
     "output_type": "execute_result"
    }
   ],
   "source": [
    "tf.get_default_graph().get_tensor_by_name('dnn/DNN_Ahidden5/Elu:0')"
   ]
  },
  {
   "cell_type": "code",
   "execution_count": null,
   "metadata": {},
   "outputs": [],
   "source": []
  },
  {
   "cell_type": "code",
   "execution_count": null,
   "metadata": {
    "collapsed": true
   },
   "outputs": [],
   "source": []
  }
 ],
 "metadata": {
  "kernelspec": {
   "display_name": "Python 3",
   "language": "python",
   "name": "python3"
  },
  "language_info": {
   "codemirror_mode": {
    "name": "ipython",
    "version": 3
   },
   "file_extension": ".py",
   "mimetype": "text/x-python",
   "name": "python",
   "nbconvert_exporter": "python",
   "pygments_lexer": "ipython3",
   "version": "3.6.3"
  }
 },
 "nbformat": 4,
 "nbformat_minor": 2
}
